{
 "cells": [
  {
   "cell_type": "code",
   "execution_count": 1,
   "id": "15afa8ca",
   "metadata": {},
   "outputs": [],
   "source": [
    "import torch\n",
    "from torchvision import datasets, transforms\n",
    "from torch.utils.data import DataLoader, random_split"
   ]
  },
  {
   "cell_type": "code",
   "execution_count": 2,
   "id": "c80abd1c",
   "metadata": {},
   "outputs": [],
   "source": [
    "dataset = datasets.ImageFolder(\n",
    "    root='./datasets/emojis',       \n",
    ")\n",
    "\n",
    "# Create separate transformation pipelines for the training and the testing data (due to augmentation)\n",
    "train_transform= transforms.Compose([\n",
    "    transforms.Grayscale(),\n",
    "    transforms.Resize((64, 64)),  \n",
    "    transforms.RandomHorizontalFlip(p=0.5), \n",
    "    transforms.RandomRotation(degrees=20), \n",
    "    transforms.ToTensor(),\n",
    "    transforms.Normalize((0.5,), (0.5,))\n",
    "])\n",
    "\n",
    "test_transform= transforms.Compose([\n",
    "    transforms.Grayscale(),\n",
    "    transforms.Resize((64, 64)),\n",
    "    transforms.ToTensor(),\n",
    "    transforms.Normalize((0.5,), (0.5,))\n",
    "])\n",
    "\n",
    "# Split the dataset into training and testing datasets in the ratio 4: 1\n",
    "train_dataset, test_dataset= random_split(dataset, [432, 108])\n",
    "train_dataset.dataset.transform= train_transform\n",
    "test_dataset.dataset.transform= test_transform\n",
    "train_data= DataLoader(train_dataset, batch_size=32, shuffle=True)\n",
    "test_data= DataLoader(test_dataset, batch_size=32)"
   ]
  },
  {
   "cell_type": "code",
   "execution_count": 3,
   "id": "4ab59044",
   "metadata": {},
   "outputs": [],
   "source": [
    "import torch.nn as nn\n",
    "\n",
    "class CNN(nn.Module):\n",
    "    def __init__(self):\n",
    "        super(CNN, self).__init__()\n",
    "        self.model = nn.Sequential(\n",
    "            nn.Conv2d(1, 16, kernel_size=3, padding=1), # Convolutional Layer 1\n",
    "            nn.ReLU(),\n",
    "            nn.MaxPool2d(2),\n",
    "            nn.Dropout(0.1),\n",
    "            \n",
    "            nn.Conv2d(16, 32, kernel_size=3, padding=1), # Convolutional Layer 2\n",
    "            nn.ReLU(),\n",
    "            nn.MaxPool2d(2),\n",
    "            nn.Dropout(0.2),\n",
    "            \n",
    "            nn.Conv2d(32, 64, kernel_size=3, padding=1), # Convolutional Layer 3\n",
    "            nn.ReLU(),\n",
    "            nn.MaxPool2d(2),\n",
    "            nn.Dropout(0.3),          \n",
    "            nn.Flatten(),\n",
    "\n",
    "            nn.Linear(64 * 8 * 8, 128), # Dense Layer 1\n",
    "            nn.ReLU(),\n",
    "            nn.Dropout(0.5),\n",
    "\n",
    "            nn.Linear(128, 18) # Dense Layer 2\n",
    "        )\n",
    "\n",
    "    def forward(self, x):\n",
    "        return self.model(x) # Pass the input through the whole architecture"
   ]
  },
  {
   "cell_type": "code",
   "execution_count": 4,
   "id": "02beee3d",
   "metadata": {},
   "outputs": [
    {
     "name": "stdout",
     "output_type": "stream",
     "text": [
      "Current Iteration: 10, Current Loss: 40.26, Current Accuracy: 8.10%\n",
      "Current Iteration: 20, Current Loss: 21.75, Current Accuracy: 47.45%\n",
      "Current Iteration: 30, Current Loss: 15.90, Current Accuracy: 62.50%\n",
      "Current Iteration: 40, Current Loss: 12.39, Current Accuracy: 67.82%\n",
      "Final Iteration: 50, Final Loss: 10.80, Final Train Accuracy: 75.23%\n"
     ]
    }
   ],
   "source": [
    "model= CNN()\n",
    "cross_entropy= nn.CrossEntropyLoss()\n",
    "optimizer= torch.optim.Adam(model.parameters(), lr=0.001)\n",
    "\n",
    "# Train the model for 50 epochs \n",
    "for e in range(50):\n",
    "    model.train()\n",
    "    loss, correct, total= 0, 0, 0\n",
    "    for images, labels in train_data:\n",
    "        optimizer.zero_grad() # Clear the previous gradients\n",
    "        outputs= model(images)\n",
    "        current_loss = cross_entropy(outputs, labels)\n",
    "        current_loss.backward() # Backpropagation\n",
    "        optimizer.step()\n",
    "\n",
    "        loss+= current_loss\n",
    "        scores, indices = torch.max(outputs, dim= 1)\n",
    "        total+= labels.size(0)\n",
    "        correct+= (indices == labels).sum()\n",
    "    \n",
    "    # Print the results after every 10 epochs\n",
    "    if (e%10==9 and e!=49):\n",
    "        accuracy= 100*correct.item()/total\n",
    "        print(f\"Current Iteration: {e+1}, Current Loss: {loss.item():.2f}, Current Accuracy: {accuracy:.2f}%\")\n",
    "\n",
    "# Print the final results\n",
    "train_accuracy= 100*correct.item()/total\n",
    "print(f\"Final Iteration: {e+1}, Final Loss: {loss.item():.2f}, Final Train Accuracy: {train_accuracy:.2f}%\")"
   ]
  },
  {
   "cell_type": "code",
   "execution_count": 6,
   "id": "6c4e3063",
   "metadata": {},
   "outputs": [
    {
     "name": "stdout",
     "output_type": "stream",
     "text": [
      "Test Accuracy: 67.59%\n"
     ]
    }
   ],
   "source": [
    "model.eval()  \n",
    "correct, total= 0, 0\n",
    "\n",
    "# Disable gradient calculation for inference\n",
    "with torch.no_grad(): \n",
    "    for images, labels in test_data:\n",
    "        outputs = model(images)\n",
    "        scores, indices = torch.max(outputs, dim= 1)\n",
    "        total += labels.size(0)\n",
    "        correct += (indices == labels).sum()\n",
    "\n",
    "test_accuracy = 100*correct.item()/total\n",
    "print(f\"Test Accuracy: {test_accuracy:.2f}%\")\n"
   ]
  }
 ],
 "metadata": {
  "kernelspec": {
   "display_name": "Python 3",
   "language": "python",
   "name": "python3"
  },
  "language_info": {
   "codemirror_mode": {
    "name": "ipython",
    "version": 3
   },
   "file_extension": ".py",
   "mimetype": "text/x-python",
   "name": "python",
   "nbconvert_exporter": "python",
   "pygments_lexer": "ipython3",
   "version": "3.13.3"
  }
 },
 "nbformat": 4,
 "nbformat_minor": 5
}
